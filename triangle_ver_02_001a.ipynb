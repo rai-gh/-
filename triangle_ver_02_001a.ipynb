{
  "nbformat": 4,
  "nbformat_minor": 0,
  "metadata": {
    "colab": {
      "provenance": []
    },
    "kernelspec": {
      "name": "python3",
      "display_name": "Python 3"
    },
    "language_info": {
      "name": "python"
    }
  },
  "cells": [
    {
      "cell_type": "markdown",
      "source": [
        "# 辺の長さから三角形の形状を判定するくん Ver_02_001a\n",
        "法政大学 理工学部 応用情報工学科 3年 22X3162 吉野礼貴 2024/11/18<br>\n",
        "未実装機能<br>\n",
        "オーバーフローの検知：Pythonは任意精度演算をサポートしているため、メモリサイズまでの大きな整数を扱える(らしい)<br>\n",
        "規定時間以内に計算が終わらない：今回のプログラムは計算量が固定であるため、計算時間は一定となる<br>"
      ],
      "metadata": {
        "id": "wRqSHZG386qQ"
      }
    },
    {
      "cell_type": "code",
      "source": [
        "!pip install mojimoji"
      ],
      "metadata": {
        "colab": {
          "base_uri": "https://localhost:8080/"
        },
        "id": "43_qi767yvBf",
        "outputId": "7cce17eb-bf58-43bc-f2eb-86b6f8aa468b"
      },
      "execution_count": 2,
      "outputs": [
        {
          "output_type": "stream",
          "name": "stdout",
          "text": [
            "Collecting mojimoji\n",
            "  Downloading mojimoji-0.0.13-cp310-cp310-manylinux_2_17_x86_64.manylinux2014_x86_64.whl.metadata (3.5 kB)\n",
            "Downloading mojimoji-0.0.13-cp310-cp310-manylinux_2_17_x86_64.manylinux2014_x86_64.whl (192 kB)\n",
            "\u001b[?25l   \u001b[90m━━━━━━━━━━━━━━━━━━━━━━━━━━━━━━━━━━━━━━━━\u001b[0m \u001b[32m0.0/192.4 kB\u001b[0m \u001b[31m?\u001b[0m eta \u001b[36m-:--:--\u001b[0m\r\u001b[2K   \u001b[90m━━━━━━━━━━━━━━━━━━━━━━━━━━━━━━━━━━━━━━━━\u001b[0m \u001b[32m192.4/192.4 kB\u001b[0m \u001b[31m7.1 MB/s\u001b[0m eta \u001b[36m0:00:00\u001b[0m\n",
            "\u001b[?25hInstalling collected packages: mojimoji\n",
            "Successfully installed mojimoji-0.0.13\n"
          ]
        }
      ]
    },
    {
      "cell_type": "code",
      "execution_count": 3,
      "metadata": {
        "id": "F5rn5SAsWiXe"
      },
      "outputs": [],
      "source": [
        "import re\n",
        "import math\n",
        "import mojimoji"
      ]
    },
    {
      "cell_type": "code",
      "source": [
        "def get_valid_input(prompt):\n",
        "\n",
        "  #get_valid_input\n",
        "  #有効な数値入力を取得する関数\n",
        "  #Raiki Yoshino 2024/11/18\n",
        "  #prompt: 入力 入力表示\n",
        "  #Returns:float: 出力 浮動小数点数\n",
        "  #想定される表記ゆれは修正する。それ以外の入力に対しては再度入力を促すエラーを出力し、再度入力を受け付ける\n",
        "  #更新履歴\n",
        "    #2024/11/19 コメントの追加\n",
        "    #2024/11/18 作成\n",
        "\n",
        "  while True:\n",
        "    expr_str = input(prompt)\n",
        "    expr_str = mojimoji.zen_to_han(expr_str, kana=False)  # 全角文字を半角文字に置換\n",
        "    expr_str = re.sub(r\"ROOT\", \"math.sqrt\", expr_str)  # \"ROOT\" を \"math.sqrt\" に置換\n",
        "    expr_str = re.sub(r\"Root\", \"math.sqrt\", expr_str)  # \"Root\" を \"math.sqrt\" に置換\n",
        "    expr_str = re.sub(r\"root\", \"math.sqrt\", expr_str)  # \"root\" を \"math.sqrt\" に置換\n",
        "    expr_str = re.sub(r\"ルート\", \"math.sqrt\", expr_str)  # \"ルート\" を \"math.sqrt\" に置換\n",
        "    expr_str = re.sub(r\"るーと\", \"math.sqrt\", expr_str)  # \"るーと\" を \"math.sqrt\" に置換\n",
        "    expr_str = re.sub(r\"(\\d+)math\\.sqrt\", r\"\\1*math.sqrt\", expr_str)  # 数字と math.sqrt の間に * を挿入\n",
        "    expr_str = re.sub(r\"math\\.sqrt(\\d+)\", r\"math.sqrt(\\1)\", expr_str)  # math.sqrt の後に括弧を追加\n",
        "\n",
        "    try:\n",
        "      num_float = eval(expr_str)  # 浮動小数点数に変換\n",
        "      return num_float\n",
        "    except (ValueError, SyntaxError, NameError):\n",
        "      print(\"表示されている条件で数字をいれてください。\")"
      ],
      "metadata": {
        "id": "KYk5CDamyDGS"
      },
      "execution_count": 4,
      "outputs": []
    },
    {
      "cell_type": "code",
      "source": [
        "def classify_triangle(num_float1, num_float2, num_float3, det):\n",
        "\n",
        "  #calssfy_triangle\n",
        "  #3辺の長さを入力として受け取り、三角形の形状を判定する\n",
        "  #Raiki Yoshino 2024/11/18\n",
        "  #Args: 入力\n",
        "    #num_float1: 1辺目の長さ 浮動小数点数\n",
        "    #num_float2: 2辺目の長さ 浮動小数点数\n",
        "    #num_float3: 3辺目の長さ 浮動小数点数\n",
        "    #det: 詳細度合いを示す変数 満たすなら1 そうでないなら0のブール値\n",
        "  #Returns: 出力 すべて、満たすなら1 そうでないなら0のブール値\n",
        "    #not_a_triangle: 三角形ではない\n",
        "    #equilateral_triangle: 正三角形\n",
        "    #isosceles_triangle: 二等辺三角形\n",
        "    #right_triangle: 直角三角形\n",
        "    #isosceles_right_triangle: 直角二等辺三角形\n",
        "  #想定外の入力へのエラーは実装されていない\n",
        "  #更新履歴\n",
        "    #2024/11/19 コメントの追加\n",
        "    #2024/11/18 作成\n",
        "\n",
        "  not_a_triangle = 0\n",
        "  equilateral_triangle = 0\n",
        "  isosceles_triangle = 0\n",
        "  right_triangle = 0\n",
        "  isosceles_right_triangle = 0\n",
        "\n",
        "  max_value = max(num_float1, num_float2, num_float3)  # 最大値\n",
        "  sum_of_others = num_float1 + num_float2 + num_float3 - max_value  # それ以外の和\n",
        "\n",
        "  # それ以外の二乗の和\n",
        "  if max_value == num_float1:\n",
        "    sum_of_squares = num_float2**2 + num_float3**2\n",
        "  elif max_value == num_float2:\n",
        "    sum_of_squares = num_float1**2 + num_float3**2\n",
        "  else:\n",
        "    sum_of_squares = num_float1**2 + num_float2**2\n",
        "\n",
        "  # 誤差許容範囲の設定\n",
        "  tolerance = 0.05 if det != 1 else 0.01\n",
        "\n",
        "  # 三角形の判別\n",
        "  if (num_float1 < 0) or (num_float2 < 0) or (num_float3 < 0) or (max_value >= sum_of_others):  # 判別_三角形ではない\n",
        "    not_a_triangle = 1\n",
        "\n",
        "  else:\n",
        "    if (abs(num_float1 - num_float2) <= tolerance * num_float1) or \\\n",
        "      (abs(num_float1 - num_float3) <= tolerance * num_float1) or \\\n",
        "      (abs(num_float2 - num_float3) <= tolerance * num_float2):  # 判別_二等辺三角形\n",
        "      isosceles_triangle = 1\n",
        "      if (abs(num_float1 - num_float2) <= tolerance * num_float1) and \\\n",
        "        (abs(num_float2 - num_float3) <= tolerance * num_float2):  # 判別_正三角形\n",
        "        isosceles_triangle = 0\n",
        "        equilateral_triangle = 1\n",
        "\n",
        "    if abs(max_value**2 - sum_of_squares) <= tolerance * max_value**2:  # 判別_直角三角形\n",
        "      right_triangle = 1\n",
        "\n",
        "    if (isosceles_triangle == 1) and (right_triangle == 1):  # 判別_直角二等辺三角形\n",
        "      isosceles_triangle = 0\n",
        "      right_triangle = 0\n",
        "      isosceles_right_triangle = 1\n",
        "\n",
        "  return not_a_triangle, equilateral_triangle, isosceles_triangle, right_triangle, isosceles_right_triangle"
      ],
      "metadata": {
        "id": "rUnKxF8w12_Z"
      },
      "execution_count": 5,
      "outputs": []
    },
    {
      "cell_type": "code",
      "source": [
        "#メイン\n",
        "#三角形の形状を判定するプログラム\n",
        "#Raiki Yoshino 2024/11/18\n",
        "#標準入力\n",
        "  #det: 入力なし または\"\"Detailed\"\n",
        "  #num_float1: 1辺目の長さ 文字列\n",
        "  #num_float2: 2辺目の長さ 文字列\n",
        "  #num_float3: 3辺目の長さ 文字列\n",
        "#num_floatはget_valid_inputへ、その後すべてをcalssfy_triangleに渡す。\n",
        "#det入力時、想定以外の入力に対しては再度入力を促すエラーを出力し、再度入力を受け付ける\n",
        "#更新履歴\n",
        "  #2024/11/19 コメントの追加\n",
        "  #2024/11/18 作成\n",
        "\n",
        "#フラグ設定\n",
        "detailed = 0 #精密モード\n",
        "not_a_triangle = 0 #三角形ではない\n",
        "equilateral_triangle = 0 #正三角形\n",
        "isosceles_triangle = 0 #二等辺三角形\n",
        "right_triangle = 0 #直角三角形\n",
        "isosceles_right_triangle = 0 #二等辺直角三角形\n",
        "#不等辺三角形はそれ以外の時とする\n",
        "\n",
        "#入力条件表示\n",
        "det = input(\"7 けた までの数字をいれてください。単位はつけないでください。\\nここで「Detailed」と入力すると、正確な判定がされます。\\n根号を使いたい時は代わりに「ルート」とつけてださい。\\nEnter をおしてください。\\n\")\n",
        "if(det == \"Detailed\"):\n",
        "  detailed = 1\n",
        "while (det != \"Detailed\")and(det !=\"\"):\n",
        "  print(\"表示されている条件で入力してください。\\n\")\n",
        "  det = input(\"7 けた までの数字をいれてください。単位はつけないでください。\\nここで「Detailed」と入力すると、正確な判定がされます。\\n根号を使いたい時は代わりに「ルート」とつけてださい。\\nEnter をおしてください。\\n\")\n",
        "\n",
        "# 一辺目の入力\n",
        "num_float1 = get_valid_input(\"一辺目を入力してください：\")\n",
        "# 二辺目の入力\n",
        "num_float2 = get_valid_input(\"二辺目を入力してください：\")\n",
        "# 三辺目の入力\n",
        "num_float3 = get_valid_input(\"三辺目を入力してください：\")\n",
        "\n",
        "(not_a_triangle, equilateral_triangle, isosceles_triangle, right_triangle, isosceles_right_triangle)=classify_triangle(num_float1, num_float2, num_float3, detailed)\n",
        "\n",
        "#「だいたい」を表示するかどうか\n",
        "if((detailed != 1)and(not_a_triangle != 1)):\n",
        "  print(\"だいたい\", end=\"\")\n",
        "\n",
        "#出力結果\n",
        "if(not_a_triangle==1):\n",
        "  print(\"三角形はできません\")\n",
        "elif(equilateral_triangle==1):\n",
        "  print(\"正三角形です\")\n",
        "elif(isosceles_right_triangle==1):\n",
        "  print(\"直角二等辺三角形です\")\n",
        "elif(right_triangle==1):\n",
        "  print(\"直角三角形です\")\n",
        "elif(isosceles_triangle==1):\n",
        "  print(\"二等辺三角形です\")\n",
        "else:\n",
        "  print(\"不等辺三角形です\")"
      ],
      "metadata": {
        "colab": {
          "base_uri": "https://localhost:8080/"
        },
        "id": "vKIZ1R11yJn2",
        "outputId": "be3d2bff-4a50-42b1-d136-2e86558fd0ec"
      },
      "execution_count": 6,
      "outputs": [
        {
          "output_type": "stream",
          "name": "stdout",
          "text": [
            "7 けた までの数字をいれてください。単位はつけないでください。\n",
            "ここで「Detailed」と入力すると、正確な判定がされます。\n",
            "根号を使いたい時は代わりに「ルート」とつけてださい。\n",
            "Enter をおしてください。\n",
            "あああ\n",
            "表示されている条件で入力してください。\n",
            "\n",
            "7 けた までの数字をいれてください。単位はつけないでください。\n",
            "ここで「Detailed」と入力すると、正確な判定がされます。\n",
            "根号を使いたい時は代わりに「ルート」とつけてださい。\n",
            "Enter をおしてください。\n",
            "\n",
            "一辺目を入力してください：２るーと２\n",
            "二辺目を入力してください：2ルート2\n",
            "三辺目を入力してください：ああああ\n",
            "表示されている条件で数字をいれてください。\n",
            "三辺目を入力してください：４\n",
            "だいたい直角二等辺三角形です\n"
          ]
        }
      ]
    }
  ]
}